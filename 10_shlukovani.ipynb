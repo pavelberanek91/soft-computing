{
 "cells": [
  {
   "cell_type": "markdown",
   "metadata": {},
   "source": [
    "# Soft Computing"
   ]
  },
  {
   "cell_type": "markdown",
   "metadata": {},
   "source": [
    "## Cvičení 10 - Shlukování"
   ]
  },
  {
   "cell_type": "markdown",
   "metadata": {},
   "source": [
    "### Demonstrace"
   ]
  },
  {
   "cell_type": "markdown",
   "metadata": {},
   "source": [
    "#### 10.1 K-means from scratch"
   ]
  },
  {
   "cell_type": "markdown",
   "metadata": {},
   "source": [
    "**Metrics for distance between samples**"
   ]
  },
  {
   "cell_type": "code",
   "execution_count": null,
   "metadata": {},
   "outputs": [],
   "source": [
    "def squared_euclidean_distance(x1: list[float], x2: list[float]) -> float:\n",
    "    '''\n",
    "    Calculates squared Euclidean distance between two samples in N dimensional space\n",
    "\n",
    "    Parameters:\n",
    "        x1 (float): N dimensional vector that represents sample\n",
    "        x2 (float): second sample to calculate distance to from x1\n",
    "\n",
    "    Returns:\n",
    "        float: distance between input samples x1 and x2 \n",
    "    '''\n",
    "    return sum([(x1j-x2j)**2 for x1j,x2j in zip(x1, x2)])"
   ]
  },
  {
   "cell_type": "code",
   "execution_count": null,
   "metadata": {},
   "outputs": [],
   "source": [
    "import unittest\n",
    "\n",
    "class TestEuclideanDistance(unittest.TestCase):\n",
    "    \n",
    "    def test_euclidean_distance_3D(self):\n",
    "        x1 = [1, 2, 3]\n",
    "        x2 = [2, 2, 5]\n",
    "        ed2 = squared_euclidean_distance(x1, x2)\n",
    "        self.assertEqual(ed2, 5)\n",
    "        \n",
    "print(squared_euclidean_distance.__doc__)\n",
    "unittest.main(argv=[''], verbosity=2, exit=False)"
   ]
  },
  {
   "cell_type": "markdown",
   "metadata": {},
   "source": [
    "**Cost function to optimize**"
   ]
  },
  {
   "cell_type": "code",
   "execution_count": 19,
   "metadata": {},
   "outputs": [],
   "source": [
    "def cluster_inertia(X: list[list[float]], mu: list[list[float]], w: list[int]) -> float:\n",
    "    '''\n",
    "    Calculates sum of squared within-cluster errors (distances of samples from centroid)\n",
    "\n",
    "    Parameters:\n",
    "        X  (list[list[float]]): matrix of sample features, rows are samples, cols are features\n",
    "        mu (list[list[float]]): matrix of centroid features, rows are centroids, cols are features\n",
    "        w  (list[int]):         list of sample membership indeces to centroids\n",
    "\n",
    "    Returns:\n",
    "        float: sum of squared errors of distances between samples in cluster and cluster centroid\n",
    "    '''\n",
    "    sum_squared_errors = 0\n",
    "    for k, mu_k in enumerate(mu):\n",
    "        x_k = [x for i, x in enumerate(X) if w[i] == k]\n",
    "        print(x_k, mu_k)\n",
    "        sum_squared_errors += sum([squared_euclidean_distance(x_ki, mu_k) for x_ki in x_k])\n",
    "    return sum_squared_errors"
   ]
  },
  {
   "cell_type": "code",
   "execution_count": null,
   "metadata": {},
   "outputs": [],
   "source": [
    "import unittest\n",
    "\n",
    "class TestClusterIntertia(unittest.TestCase):\n",
    "    \n",
    "    def test_squared_error_two_samples_two_clusters(self):\n",
    "        X =  [[1, 2, 3], [2, 2, 5]]\n",
    "        mu = [[0, 1, 1], [2, 2, 2]]\n",
    "        w = [0, 1]\n",
    "        sse = cluster_inertia(X, mu, w)\n",
    "        self.assertEqual(sse, 15)\n",
    "\n",
    "    def test_squared_error_two_samples_one_cluster(self):\n",
    "        X =  [[1, 2, 3], [2, 2, 5]]\n",
    "        mu = [[0, 1, 1]]\n",
    "        w = [0, 0]\n",
    "        sse = cluster_inertia(X, mu, w)\n",
    "        self.assertEqual(sse, 27)\n",
    "        \n",
    "print(cluster_inertia.__doc__)\n",
    "unittest.main(argv=[''], verbosity=2, exit=False)"
   ]
  },
  {
   "cell_type": "markdown",
   "metadata": {},
   "source": [
    "#### 10.2 K-means via sklearn"
   ]
  },
  {
   "cell_type": "code",
   "execution_count": null,
   "metadata": {},
   "outputs": [],
   "source": [
    "!python3 -m pip install scikit-learn"
   ]
  },
  {
   "cell_type": "markdown",
   "metadata": {},
   "source": [
    "**Create artificial dataset**"
   ]
  },
  {
   "cell_type": "code",
   "execution_count": 93,
   "metadata": {},
   "outputs": [],
   "source": [
    "from sklearn.datasets import make_blobs\n",
    "\n",
    "X, y = make_blobs(      # creates artificial data as a blobs of points\n",
    "    n_samples=150,      # how many points should be created\n",
    "    n_features=2,       # how many samples should blob points have (1D, 2D, ...)\n",
    "    centers=3,          # how many blobs should be created\n",
    "    cluster_std=1.5,    # standard deviation of points from blobs\n",
    "    shuffle=True,       # shuffle the samples\n",
    "    random_state=9      # for deterministic generating\n",
    ")"
   ]
  },
  {
   "cell_type": "code",
   "execution_count": 94,
   "metadata": {},
   "outputs": [
    {
     "data": {
      "image/png": "[encoded data removed]",
      "text/plain": [
       "<Figure size 432x288 with 1 Axes>"
      ]
     },
     "metadata": {
      "needs_background": "light"
     },
     "output_type": "display_data"
    }
   ],
   "source": [
    "import matplotlib.pyplot as plt\n",
    "\n",
    "plt.scatter(            # creates scatter plot (x vs y features)\n",
    "    x=X[:,0],           # vector of x features\n",
    "    y=X[:,1],           # vector of y features\n",
    "    c='white',          # color of point on xi, yi intersection\n",
    "    marker='o',         # how should marker for point look like\n",
    "    edgecolors='black', # edge color of marker\n",
    "    s=50                # marker size\n",
    ")\n",
    "\n",
    "plt.grid()              # creates grid on scatter plot\n",
    "plt.show()              # display plot on screen"
   ]
  },
  {
   "cell_type": "markdown",
   "metadata": {},
   "source": [
    "**model instantization**"
   ]
  },
  {
   "cell_type": "code",
   "execution_count": 95,
   "metadata": {},
   "outputs": [],
   "source": [
    "from sklearn.cluster import KMeans\n",
    "\n",
    "km = KMeans(        # initialize KMeans model instance\n",
    "    n_clusters=3,   # number of centroids to use\n",
    "    init='random',  # choose init centroids positions randomly (or k-means++)\n",
    "    n_init=10,      # run kmeans algorithm n_init times independently and choose best model\n",
    "    max_iter=300,   # max iterations in one kmeans run\n",
    "    tol=1e-04,      # convergence criterium if not reached max iterations\n",
    "    random_state=1  # for deterministic clusterization\n",
    ")"
   ]
  },
  {
   "cell_type": "markdown",
   "metadata": {},
   "source": [
    "**dataset fitting**"
   ]
  },
  {
   "cell_type": "code",
   "execution_count": 96,
   "metadata": {},
   "outputs": [],
   "source": [
    "y = km.fit_predict(X)"
   ]
  },
  {
   "cell_type": "code",
   "execution_count": 97,
   "metadata": {},
   "outputs": [
    {
     "data": {
      "image/png": "[encoded data removed]",
      "text/plain": [
       "<Figure size 432x288 with 1 Axes>"
      ]
     },
     "metadata": {
      "needs_background": "light"
     },
     "output_type": "display_data"
    }
   ],
   "source": [
    "import matplotlib.pyplot as plt\n",
    "\n",
    "n_clusters = 3\n",
    "colors = ['lightgreen', 'orange', 'lightblue']\n",
    "markers = ['s', 'o', 'v']\n",
    "\n",
    "for k in range(n_clusters): #places all samples on scatterplot with respective category colors\n",
    "    plt.scatter(            \n",
    "        x=X[y==k, 0],           \n",
    "        y=X[y==k, 1],           \n",
    "        c=colors[k],          \n",
    "        marker=markers[k],         \n",
    "        edgecolors='black', \n",
    "        s=50                \n",
    "    )\n",
    "\n",
    "plt.scatter( #place centroids on scatterplot          \n",
    "    x=km.cluster_centers_[:, 0],           \n",
    "    y=km.cluster_centers_[:, 1],\n",
    "    c='red',          \n",
    "    marker='*',         \n",
    "    edgecolors='black', \n",
    "    s=500                \n",
    ")\n",
    "\n",
    "plt.grid()\n",
    "plt.show()"
   ]
  },
  {
   "cell_type": "markdown",
   "metadata": {},
   "source": [
    "#### 10.3 Optimal number of clusters"
   ]
  },
  {
   "cell_type": "markdown",
   "metadata": {},
   "source": [
    "**Elbow method**"
   ]
  },
  {
   "cell_type": "code",
   "execution_count": 111,
   "metadata": {},
   "outputs": [],
   "source": [
    "min_clusters = 2\n",
    "max_clusters = 10\n",
    "distortions = []\n",
    "for n_clusters in range(min_clusters, max_clusters+1):\n",
    "    km = KMeans(        \n",
    "        n_clusters=n_clusters,\n",
    "        init='k-means++',\n",
    "        n_init=10,\n",
    "        max_iter=300,\n",
    "        tol=1e-04,\n",
    "        random_state=1\n",
    "    )\n",
    "    km.fit_predict(X)\n",
    "    distortions.append(km.inertia_)"
   ]
  },
  {
   "cell_type": "code",
   "execution_count": 112,
   "metadata": {},
   "outputs": [
    {
     "data": {
      "image/png": "[encoded data removed]",
      "text/plain": [
       "<Figure size 432x288 with 1 Axes>"
      ]
     },
     "metadata": {
      "needs_background": "light"
     },
     "output_type": "display_data"
    }
   ],
   "source": [
    "plt.plot(range(min_clusters, max_clusters+1), distortions, marker='o')\n",
    "plt.xlabel('Number of clusters')\n",
    "plt.ylabel('Distortion')\n",
    "plt.show()"
   ]
  },
  {
   "cell_type": "markdown",
   "metadata": {},
   "source": [
    "**Fuzzy Partition Coefficient**"
   ]
  },
  {
   "cell_type": "code",
   "execution_count": null,
   "metadata": {},
   "outputs": [],
   "source": [
    "!python3 -m pip install scikit-fuzzy"
   ]
  },
  {
   "cell_type": "code",
   "execution_count": null,
   "metadata": {},
   "outputs": [],
   "source": [
    "from __future__ import division, print_function\n",
    "import numpy as np\n",
    "import matplotlib.pyplot as plt\n",
    "import skfuzzy as fuzz\n",
    "\n",
    "colors = ['b', 'orange', 'g', 'r', 'c', 'm', 'y', 'k', 'Brown', 'ForestGreen']\n",
    "\n",
    "# Define three cluster centers\n",
    "centers = [[4, 2],\n",
    "           [1, 7],\n",
    "           [5, 6]]\n",
    "\n",
    "# Define three cluster sigmas in x and y, respectively\n",
    "sigmas = [[0.8, 0.3],\n",
    "          [0.3, 0.5],\n",
    "          [1.1, 0.7]]\n",
    "\n",
    "# Generate test data\n",
    "np.random.seed(42)  # Set seed for reproducibility\n",
    "xpts = np.zeros(1)\n",
    "ypts = np.zeros(1)\n",
    "labels = np.zeros(1)\n",
    "for i, ((xmu, ymu), (xsigma, ysigma)) in enumerate(zip(centers, sigmas)):\n",
    "    xpts = np.hstack((xpts, np.random.standard_normal(200) * xsigma + xmu))\n",
    "    ypts = np.hstack((ypts, np.random.standard_normal(200) * ysigma + ymu))\n",
    "    labels = np.hstack((labels, np.ones(200) * i))\n",
    "\n",
    "# Visualize the test data\n",
    "fig0, ax0 = plt.subplots()\n",
    "for label in range(3):\n",
    "    ax0.plot(xpts[labels == label], ypts[labels == label], '.',\n",
    "             color=colors[label])\n",
    "ax0.set_title('Test data: 200 points x3 clusters.')"
   ]
  },
  {
   "cell_type": "code",
   "execution_count": null,
   "metadata": {},
   "outputs": [],
   "source": [
    "# Set up the loop and plot\n",
    "fig1, axes1 = plt.subplots(3, 3, figsize=(8, 8))\n",
    "alldata = np.vstack((xpts, ypts))\n",
    "fpcs = []\n",
    "\n",
    "for ncenters, ax in enumerate(axes1.reshape(-1), 2):\n",
    "    cntr, u, u0, d, jm, p, fpc = fuzz.cluster.cmeans(\n",
    "        alldata, ncenters, 2, error=0.005, maxiter=1000, init=None)\n",
    "\n",
    "    # Store fpc values for later\n",
    "    fpcs.append(fpc)\n",
    "\n",
    "    # Plot assigned clusters, for each data point in training set\n",
    "    cluster_membership = np.argmax(u, axis=0)\n",
    "    for j in range(ncenters):\n",
    "        ax.plot(xpts[cluster_membership == j],\n",
    "                ypts[cluster_membership == j], '.', color=colors[j])\n",
    "\n",
    "    # Mark the center of each fuzzy cluster\n",
    "    for pt in cntr:\n",
    "        ax.plot(pt[0], pt[1], 'rs')\n",
    "\n",
    "    ax.set_title('Centers = {0}; FPC = {1:.2f}'.format(ncenters, fpc))\n",
    "    ax.axis('off')\n",
    "\n",
    "fig1.tight_layout()"
   ]
  },
  {
   "cell_type": "code",
   "execution_count": null,
   "metadata": {},
   "outputs": [],
   "source": [
    "fig2, ax2 = plt.subplots()\n",
    "ax2.plot(np.r_[2:11], fpcs)\n",
    "ax2.set_xlabel(\"Number of centers\")\n",
    "ax2.set_ylabel(\"Fuzzy partition coefficient\")"
   ]
  }
 ],
 "metadata": {
  "interpreter": {
   "hash": "bc3c83880fae640cb7980c4f56d19545fc69dc40db0948a29b0ceca08437646b"
  },
  "kernelspec": {
   "display_name": "Python 3.9.10 ('venv': venv)",
   "language": "python",
   "name": "python3"
  },
  "language_info": {
   "codemirror_mode": {
    "name": "ipython",
    "version": 3
   },
   "file_extension": ".py",
   "mimetype": "text/x-python",
   "name": "python",
   "nbconvert_exporter": "python",
   "pygments_lexer": "ipython3",
   "version": "3.9.10"
  },
  "orig_nbformat": 4
 },
 "nbformat": 4,
 "nbformat_minor": 2
}
